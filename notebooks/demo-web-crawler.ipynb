{
 "cells": [
  {
   "cell_type": "code",
   "id": "initial_id",
   "metadata": {
    "collapsed": true,
    "ExecuteTime": {
     "end_time": "2025-04-02T09:06:43.229143Z",
     "start_time": "2025-04-02T09:06:43.206719Z"
    }
   },
   "source": [
    "%load_ext autoreload\n",
    "%autoreload 2"
   ],
   "outputs": [],
   "execution_count": 1
  },
  {
   "metadata": {
    "ExecuteTime": {
     "end_time": "2025-04-02T09:06:44.844797Z",
     "start_time": "2025-04-02T09:06:44.812983Z"
    }
   },
   "cell_type": "code",
   "source": [
    "from src.utils.env_loader import load_env_vars, get_db_connection_string\n",
    "envs = load_env_vars()"
   ],
   "id": "c4236862aa236355",
   "outputs": [],
   "execution_count": 2
  },
  {
   "metadata": {
    "ExecuteTime": {
     "end_time": "2025-04-02T09:06:48.669578Z",
     "start_time": "2025-04-02T09:06:47.579359Z"
    }
   },
   "cell_type": "code",
   "source": [
    "from langchain.document_loaders import DirectoryLoader, BSHTMLLoader\n",
    "from collections import defaultdict\n",
    "from langchain.schema import Document\n",
    "\n",
    "loader = DirectoryLoader(\n",
    "    \"./../data/raw/demo/html\",\n",
    "    glob=\"*.html\",\n",
    "    loader_cls=BSHTMLLoader,\n",
    "    recursive=True\n",
    ")\n",
    "\n",
    "# Load documents\n",
    "docs = loader.load()\n",
    "\n",
    "# Group documents by source\n",
    "merged_docs = defaultdict(str)\n",
    "for doc in docs:\n",
    "    merged_docs[doc.metadata[\"source\"]] += (\n",
    "            doc.page_content + \"\\n\"\n",
    "    )  # Concatenating with newline\n",
    "\n",
    "new_docs = []\n",
    "\n",
    "for source, doc in merged_docs.items():\n",
    "    new_doc = Document(page_content=doc, metadata={\"source\": source})\n",
    "    new_docs.append(new_doc)\n",
    "\n",
    "print(new_docs)"
   ],
   "id": "63adc381d88e378",
   "outputs": [
    {
     "name": "stdout",
     "output_type": "stream",
     "text": [
      "[Document(metadata={'source': '../data/raw/demo/html/vngcloud.vn.html'}, page_content=\"\\n\\nvDB - Professional Database Management Solution | VNG Cloud | VNG Cloud\\n\\n\\n\\n\\n\\n\\n\\n\\n\\n\\n\\n\\n\\n\\n\\n\\n\\n\\n\\n\\n\\n\\nvDBProfessional Database Management SolutionReliable database management systemEffective data protectionEasy and flexible data storage and retrievalStart trialPricingproduct.titlevDBproduct.overviewFeaturesPricingproduct.why-chooseproduct.modelSuccess StoriesFAQsPromotions\\xa0vDB: The Professional and Comprehensive Database Management for BusinessesvDB is a cutting-edge service designed to empower businesses to effortlessly establish, operate, and expand their databases on VNG Cloud's cloud computing platform with easeWith vDB service, customers can focus on building and running their applications, while VNG Cloud takes care of the underlying infrastructure and database management tasks. This helps businesses streamline their operations, reduce IT complexities, ensure the security and availability of their data.\\xa0\\xa0FeaturesEasy deployment, usage, and configuration of databasesSafe with protection feature in VPCAutomatic daily backups, on-demand, and easy data recoveryEasy scalability of storage capacity and database configurationHigh performance with dedicated hardware and SSD drivesEasy deployment, usage, and configuration of databasesvDB allows enterprises to perform database configuration-related activities easily and conveniently including: database deployment, database usage and management, configuration fine-tuning, support for multiple database management systems (MySQL, PostgreSQL, etc.), ensuring safety and security.product.related_postPricing\\xa0\\xa0\\xa0Why Choose vDB?Easy and Simple AdministrationThe simple and easy-to-use vDB interface allows you to easily manage your database, access and manipulate your data without the need for highly specialized skills or knowledge.Flexible ScalabilityvDB is flexibly scalable, with no limit on database size, allowing unlimited storage expansion and additional resources to improve system performance.Easy Data Backup and RecoveryvDB allows businesses to schedule automatic backups or perform on-demand backups, ensuring data safety. In case of any data issues, easy data recovery from backups is available.Optimized SystemIntelligent caching and optimized data structures in vDB speed up data retrieval, ensuring quick response times.SecurityProviding multiple layers of security, including: SSL/TLS, login and authorization, backup and restore, absolute security, SSL/TLS encryption, and access control.\\xa0\\xa0Deployment Model Model 01  Model 02  Model 03 \\xa0\\xa0\\xa0\\xa0\\xa0FAQs\\xa0Promotions01\\xa0\\n\\n\\n\")]\n"
     ]
    }
   ],
   "execution_count": 3
  },
  {
   "metadata": {
    "ExecuteTime": {
     "end_time": "2025-04-02T09:06:49.769593Z",
     "start_time": "2025-04-02T09:06:49.734413Z"
    }
   },
   "cell_type": "code",
   "source": [
    "from langchain.text_splitter import RecursiveCharacterTextSplitter\n",
    "chunk_size = 7000\n",
    "chunk_overlap = 6800\n",
    "text_splitter = RecursiveCharacterTextSplitter(\n",
    "    chunk_size=chunk_size, chunk_overlap=chunk_overlap\n",
    ")\n",
    "\n",
    "splits = text_splitter.split_documents(new_docs)\n",
    "\n",
    "print(f\"Loaded {len(splits)} html chunks.\")"
   ],
   "id": "4f51f7c0f46aef3",
   "outputs": [
    {
     "name": "stdout",
     "output_type": "stream",
     "text": [
      "Loaded 1 html chunks.\n"
     ]
    }
   ],
   "execution_count": 4
  },
  {
   "metadata": {
    "ExecuteTime": {
     "end_time": "2025-04-02T09:07:03.322853Z",
     "start_time": "2025-04-02T09:07:02.199778Z"
    }
   },
   "cell_type": "code",
   "source": [
    "from langchain_google_genai import GoogleGenerativeAIEmbeddings\n",
    "from langchain_postgres.vectorstores import PGVector\n",
    "\n",
    "embeddings_model = GoogleGenerativeAIEmbeddings(model=envs[\"EMBEDDING_MODEL\"], google_api_key=envs[\"GOOGLE_API_KEY\"])\n",
    "COLLECTION_NAME = \"demo-web-crawler-documents\"\n",
    "\n",
    "vector_store = PGVector(\n",
    "    embeddings=embeddings_model,\n",
    "    collection_name=COLLECTION_NAME,\n",
    "    connection=get_db_connection_string(),\n",
    "    pre_delete_collection=True,\n",
    "    use_jsonb=True,\n",
    ")"
   ],
   "id": "2424b31bd10ef367",
   "outputs": [],
   "execution_count": 5
  },
  {
   "metadata": {
    "ExecuteTime": {
     "end_time": "2025-04-02T09:07:37.203032Z",
     "start_time": "2025-04-02T09:07:15.425239Z"
    }
   },
   "cell_type": "code",
   "source": [
    "vector_store.add_documents(splits)\n",
    "\n",
    "print(\"HTML documents successfully stored in PostgreSQL Vector Database.\")"
   ],
   "id": "ceb062baa69cb298",
   "outputs": [
    {
     "ename": "KeyboardInterrupt",
     "evalue": "",
     "output_type": "error",
     "traceback": [
      "\u001B[0;31m---------------------------------------------------------------------------\u001B[0m",
      "\u001B[0;31mKeyboardInterrupt\u001B[0m                         Traceback (most recent call last)",
      "Cell \u001B[0;32mIn[7], line 1\u001B[0m\n\u001B[0;32m----> 1\u001B[0m \u001B[43mvector_store\u001B[49m\u001B[38;5;241m.\u001B[39madd_documents(splits)\n\u001B[1;32m      3\u001B[0m \u001B[38;5;28mprint\u001B[39m(\u001B[38;5;124m\"\u001B[39m\u001B[38;5;124mHTML documents successfully stored in PostgreSQL Vector Database.\u001B[39m\u001B[38;5;124m\"\u001B[39m)\n",
      "Cell \u001B[0;32mIn[7], line 1\u001B[0m\n\u001B[0;32m----> 1\u001B[0m \u001B[43mvector_store\u001B[49m\u001B[38;5;241m.\u001B[39madd_documents(splits)\n\u001B[1;32m      3\u001B[0m \u001B[38;5;28mprint\u001B[39m(\u001B[38;5;124m\"\u001B[39m\u001B[38;5;124mHTML documents successfully stored in PostgreSQL Vector Database.\u001B[39m\u001B[38;5;124m\"\u001B[39m)\n",
      "File \u001B[0;32m/snap/pycharm-professional/469/plugins/python-ce/helpers/pydev/_pydevd_bundle/pydevd_frame.py:755\u001B[0m, in \u001B[0;36mPyDBFrame.trace_dispatch\u001B[0;34m(self, frame, event, arg)\u001B[0m\n\u001B[1;32m    753\u001B[0m \u001B[38;5;66;03m# if thread has a suspend flag, we suspend with a busy wait\u001B[39;00m\n\u001B[1;32m    754\u001B[0m \u001B[38;5;28;01mif\u001B[39;00m info\u001B[38;5;241m.\u001B[39mpydev_state \u001B[38;5;241m==\u001B[39m STATE_SUSPEND:\n\u001B[0;32m--> 755\u001B[0m     \u001B[38;5;28;43mself\u001B[39;49m\u001B[38;5;241;43m.\u001B[39;49m\u001B[43mdo_wait_suspend\u001B[49m\u001B[43m(\u001B[49m\u001B[43mthread\u001B[49m\u001B[43m,\u001B[49m\u001B[43m \u001B[49m\u001B[43mframe\u001B[49m\u001B[43m,\u001B[49m\u001B[43m \u001B[49m\u001B[43mevent\u001B[49m\u001B[43m,\u001B[49m\u001B[43m \u001B[49m\u001B[43marg\u001B[49m\u001B[43m)\u001B[49m\n\u001B[1;32m    756\u001B[0m     \u001B[38;5;66;03m# No need to reset frame.f_trace to keep the same trace function.\u001B[39;00m\n\u001B[1;32m    757\u001B[0m     \u001B[38;5;28;01mreturn\u001B[39;00m \u001B[38;5;28mself\u001B[39m\u001B[38;5;241m.\u001B[39mtrace_dispatch\n",
      "File \u001B[0;32m/snap/pycharm-professional/469/plugins/python-ce/helpers/pydev/_pydevd_bundle/pydevd_frame.py:412\u001B[0m, in \u001B[0;36mPyDBFrame.do_wait_suspend\u001B[0;34m(self, *args, **kwargs)\u001B[0m\n\u001B[1;32m    411\u001B[0m \u001B[38;5;28;01mdef\u001B[39;00m\u001B[38;5;250m \u001B[39m\u001B[38;5;21mdo_wait_suspend\u001B[39m(\u001B[38;5;28mself\u001B[39m, \u001B[38;5;241m*\u001B[39margs, \u001B[38;5;241m*\u001B[39m\u001B[38;5;241m*\u001B[39mkwargs):\n\u001B[0;32m--> 412\u001B[0m     \u001B[38;5;28;43mself\u001B[39;49m\u001B[38;5;241;43m.\u001B[39;49m\u001B[43m_args\u001B[49m\u001B[43m[\u001B[49m\u001B[38;5;241;43m0\u001B[39;49m\u001B[43m]\u001B[49m\u001B[38;5;241;43m.\u001B[39;49m\u001B[43mdo_wait_suspend\u001B[49m\u001B[43m(\u001B[49m\u001B[38;5;241;43m*\u001B[39;49m\u001B[43margs\u001B[49m\u001B[43m,\u001B[49m\u001B[43m \u001B[49m\u001B[38;5;241;43m*\u001B[39;49m\u001B[38;5;241;43m*\u001B[39;49m\u001B[43mkwargs\u001B[49m\u001B[43m)\u001B[49m\n",
      "File \u001B[0;32m/snap/pycharm-professional/469/plugins/python-ce/helpers/pydev/pydevd.py:1220\u001B[0m, in \u001B[0;36mPyDB.do_wait_suspend\u001B[0;34m(self, thread, frame, event, arg, send_suspend_message, is_unhandled_exception)\u001B[0m\n\u001B[1;32m   1217\u001B[0m         from_this_thread\u001B[38;5;241m.\u001B[39mappend(frame_id)\n\u001B[1;32m   1219\u001B[0m \u001B[38;5;28;01mwith\u001B[39;00m \u001B[38;5;28mself\u001B[39m\u001B[38;5;241m.\u001B[39m_threads_suspended_single_notification\u001B[38;5;241m.\u001B[39mnotify_thread_suspended(thread_id, stop_reason):\n\u001B[0;32m-> 1220\u001B[0m     \u001B[38;5;28;43mself\u001B[39;49m\u001B[38;5;241;43m.\u001B[39;49m\u001B[43m_do_wait_suspend\u001B[49m\u001B[43m(\u001B[49m\u001B[43mthread\u001B[49m\u001B[43m,\u001B[49m\u001B[43m \u001B[49m\u001B[43mframe\u001B[49m\u001B[43m,\u001B[49m\u001B[43m \u001B[49m\u001B[43mevent\u001B[49m\u001B[43m,\u001B[49m\u001B[43m \u001B[49m\u001B[43marg\u001B[49m\u001B[43m,\u001B[49m\u001B[43m \u001B[49m\u001B[43msuspend_type\u001B[49m\u001B[43m,\u001B[49m\u001B[43m \u001B[49m\u001B[43mfrom_this_thread\u001B[49m\u001B[43m)\u001B[49m\n",
      "File \u001B[0;32m/snap/pycharm-professional/469/plugins/python-ce/helpers/pydev/pydevd.py:1235\u001B[0m, in \u001B[0;36mPyDB._do_wait_suspend\u001B[0;34m(self, thread, frame, event, arg, suspend_type, from_this_thread)\u001B[0m\n\u001B[1;32m   1232\u001B[0m             \u001B[38;5;28mself\u001B[39m\u001B[38;5;241m.\u001B[39m_call_mpl_hook()\n\u001B[1;32m   1234\u001B[0m         \u001B[38;5;28mself\u001B[39m\u001B[38;5;241m.\u001B[39mprocess_internal_commands()\n\u001B[0;32m-> 1235\u001B[0m         \u001B[43mtime\u001B[49m\u001B[38;5;241;43m.\u001B[39;49m\u001B[43msleep\u001B[49m\u001B[43m(\u001B[49m\u001B[38;5;241;43m0.01\u001B[39;49m\u001B[43m)\u001B[49m\n\u001B[1;32m   1237\u001B[0m \u001B[38;5;28mself\u001B[39m\u001B[38;5;241m.\u001B[39mcancel_async_evaluation(get_current_thread_id(thread), \u001B[38;5;28mstr\u001B[39m(\u001B[38;5;28mid\u001B[39m(frame)))\n\u001B[1;32m   1239\u001B[0m \u001B[38;5;66;03m# process any stepping instructions\u001B[39;00m\n",
      "\u001B[0;31mKeyboardInterrupt\u001B[0m: "
     ]
    }
   ],
   "execution_count": 7
  },
  {
   "metadata": {
    "ExecuteTime": {
     "end_time": "2025-03-26T03:25:27.358138Z",
     "start_time": "2025-03-26T03:25:27.308630Z"
    }
   },
   "cell_type": "code",
   "source": "retriever = vector_store.as_retriever()",
   "id": "71df88b3eb39b7b",
   "outputs": [],
   "execution_count": 23
  },
  {
   "metadata": {
    "ExecuteTime": {
     "end_time": "2025-03-26T03:25:31.086191Z",
     "start_time": "2025-03-26T03:25:30.653958Z"
    }
   },
   "cell_type": "code",
   "source": [
    "query = \"MariaDB and Redis\"\n",
    "for i, doc in enumerate(retriever.invoke(query)):\n",
    "    print(f\"Document {i}:\\n{doc}\", end=\"\\n\\n\")"
   ],
   "id": "2f466ce19f8c4d31",
   "outputs": [
    {
     "name": "stdout",
     "output_type": "stream",
     "text": [
      "Document 0:\n",
      "page_content='vDB - Professional Database Management Solution | VNG Cloud | VNG Cloud\n",
      "\n",
      "\n",
      "\n",
      "\n",
      "\n",
      "\n",
      "\n",
      "\n",
      "\n",
      "\n",
      "\n",
      "\n",
      "\n",
      "\n",
      "\n",
      "\n",
      "\n",
      "\n",
      "\n",
      "\n",
      "\n",
      "\n",
      "vDBProfessional Database Management SolutionReliable database management systemEffective data protectionEasy and flexible data storage and retrievalStart trialPricingproduct.titlevDBproduct.overviewFeaturesPricingproduct.why-chooseproduct.modelSuccess StoriesFAQsPromotions vDB: The Professional and Comprehensive Database Management for BusinessesvDB is a cutting-edge service designed to empower businesses to effortlessly establish, operate, and expand their databases on VNG Cloud's cloud computing platform with easeWith vDB service, customers can focus on building and running their applications, while VNG Cloud takes care of the underlying infrastructure and database management tasks. This helps businesses streamline their operations, reduce IT complexities, ensure the security and availability of their data.  FeaturesEasy deployment, usage, and configuration of databasesSafe with protection feature in VPCAutomatic daily backups, on-demand, and easy data recoveryEasy scalability of storage capacity and database configurationHigh performance with dedicated hardware and SSD drivesEasy deployment, usage, and configuration of databasesvDB allows enterprises to perform database configuration-related activities easily and conveniently including: database deployment, database usage and management, configuration fine-tuning, support for multiple database management systems (MySQL, PostgreSQL, etc.), ensuring safety and security.product.related_postPricing   Why Choose vDB?Easy and Simple AdministrationThe simple and easy-to-use vDB interface allows you to easily manage your database, access and manipulate your data without the need for highly specialized skills or knowledge.Flexible ScalabilityvDB is flexibly scalable, with no limit on database size, allowing unlimited storage expansion and additional resources to improve system performance.Easy Data Backup and RecoveryvDB allows businesses to schedule automatic backups or perform on-demand backups, ensuring data safety. In case of any data issues, easy data recovery from backups is available.Optimized SystemIntelligent caching and optimized data structures in vDB speed up data retrieval, ensuring quick response times.SecurityProviding multiple layers of security, including: SSL/TLS, login and authorization, backup and restore, absolute security, SSL/TLS encryption, and access control.  Deployment Model Model 01  Model 02  Model 03      FAQs Promotions01' metadata={'source': '../data/raw/demo/html/vngcloud.vn.html'}\n",
      "\n"
     ]
    }
   ],
   "execution_count": 24
  },
  {
   "metadata": {
    "ExecuteTime": {
     "end_time": "2025-03-26T03:25:32.709855Z",
     "start_time": "2025-03-26T03:25:32.654993Z"
    }
   },
   "cell_type": "code",
   "source": [
    "from langchain_google_genai import ChatGoogleGenerativeAI\n",
    "llm = ChatGoogleGenerativeAI(\n",
    "        model=envs[\"LLM_MODEL\"],\n",
    "        api_key=envs[\"GOOGLE_API_KEY\"],  # uses GOOGLE_API_KEY env var by default\n",
    "    )"
   ],
   "id": "e3e000d888e6bd88",
   "outputs": [],
   "execution_count": 25
  },
  {
   "metadata": {
    "ExecuteTime": {
     "end_time": "2025-03-26T03:25:34.599294Z",
     "start_time": "2025-03-26T03:25:33.840728Z"
    }
   },
   "cell_type": "code",
   "source": [
    "import gradio as gr\n",
    "\n",
    "# call this function for every message added to the chatbot\n",
    "def stream_response(message, history):\n",
    "    #print(f\"Input: {message}. History: {history}\\n\")\n",
    "\n",
    "    # retrieve the relevant chunks based on the question asked\n",
    "    docs = retriever.invoke(message)\n",
    "\n",
    "    # add all the chunks to 'knowledge'\n",
    "    knowledge = \"\"\n",
    "\n",
    "    for doc in docs:\n",
    "        knowledge += doc.page_content+\"\\n\\n\"\n",
    "\n",
    "\n",
    "    # make the call to the LLM (including prompt)\n",
    "    if message is not None:\n",
    "\n",
    "        partial_message = \"\"\n",
    "\n",
    "        rag_prompt = f\"\"\"\n",
    "        Bạn là một trợ lí ảo nhằm trả lời các CÂU HỎI cho khách hàng của VNGCloud.\n",
    "        Câu trả lời của bạn phải có liên quan đến NGỮ CẢNH được cung cấp. Nếu không liên quan hãy yêu cầu cung cấp thêm thông tin.\n",
    "        Khi trả lời, nếu tài liệu có chứa hình ảnh liên quan trực tiếp đến nội dung câu hỏi, hãy hiển thị hình ảnh đó dưới dạng Markdown. Nếu câu hỏi yêu cầu thông tin chung mà không liên quan đến một phần cụ thể có kèm hình ảnh, hãy chỉ trả về văn bản.\n",
    "        Bạn PHẢI trả lời bằng TIẾNG VIỆT\n",
    "\n",
    "        CÂU HỎI: {message}\n",
    "\n",
    "        Lịch sử hội thoại: {history}\n",
    "\n",
    "        NGỮ CẢNH: {knowledge}\n",
    "\n",
    "        \"\"\"\n",
    "\n",
    "        #print(rag_prompt)\n",
    "\n",
    "        # stream the response to the Gradio App\n",
    "        for response in llm.stream(rag_prompt):\n",
    "            partial_message += response.content\n",
    "            yield partial_message\n",
    "\n",
    "# initiate the Gradio app\n",
    "chatbot = gr.ChatInterface(stream_response, textbox=gr.Textbox(placeholder=\"Send to the LLM...\",\n",
    "    container=False,\n",
    "    autoscroll=True,\n",
    "    scale=7),\n",
    ")\n",
    "\n",
    "# launch the Gradio app\n",
    "chatbot.launch()"
   ],
   "id": "26a806dee2846a66",
   "outputs": [
    {
     "name": "stderr",
     "output_type": "stream",
     "text": [
      "/home/cuongpb/VNG/Work/chatbot_rag/rag-data-preprocessing/.venv/lib/python3.10/site-packages/gradio/chat_interface.py:334: UserWarning: The 'tuples' format for chatbot messages is deprecated and will be removed in a future version of Gradio. Please set type='messages' instead, which uses openai-style 'role' and 'content' keys.\n",
      "  self.chatbot = Chatbot(\n"
     ]
    },
    {
     "name": "stdout",
     "output_type": "stream",
     "text": [
      "* Running on local URL:  http://127.0.0.1:7861\n",
      "\n",
      "To create a public link, set `share=True` in `launch()`.\n"
     ]
    },
    {
     "data": {
      "text/plain": [
       "<IPython.core.display.HTML object>"
      ],
      "text/html": [
       "<div><iframe src=\"http://127.0.0.1:7861/\" width=\"100%\" height=\"500\" allow=\"autoplay; camera; microphone; clipboard-read; clipboard-write;\" frameborder=\"0\" allowfullscreen></iframe></div>"
      ]
     },
     "metadata": {},
     "output_type": "display_data"
    },
    {
     "data": {
      "text/plain": []
     },
     "execution_count": 26,
     "metadata": {},
     "output_type": "execute_result"
    }
   ],
   "execution_count": 26
  },
  {
   "metadata": {},
   "cell_type": "code",
   "outputs": [],
   "execution_count": null,
   "source": "",
   "id": "29831192fdd6cd52"
  }
 ],
 "metadata": {
  "kernelspec": {
   "display_name": "Python 3",
   "language": "python",
   "name": "python3"
  },
  "language_info": {
   "codemirror_mode": {
    "name": "ipython",
    "version": 2
   },
   "file_extension": ".py",
   "mimetype": "text/x-python",
   "name": "python",
   "nbconvert_exporter": "python",
   "pygments_lexer": "ipython2",
   "version": "2.7.6"
  }
 },
 "nbformat": 4,
 "nbformat_minor": 5
}
